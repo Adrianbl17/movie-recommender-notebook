{
 "cells": [
  {
   "metadata": {},
   "cell_type": "markdown",
   "source": [
    "# Jupyter notebook sample"
   ],
   "id": "8a77807f92f26ee"
  },
  {
   "metadata": {
    "ExecuteTime": {
     "end_time": "2025-04-25T04:28:25.889969Z",
     "start_time": "2025-04-25T04:28:24.229045Z"
    }
   },
   "cell_type": "code",
   "source": "",
   "id": "7df9140457caed5e",
   "outputs": [
    {
     "name": "stdout",
     "output_type": "stream",
     "text": [
      "# packages in environment at C:\\Users\\adria\\miniconda3\\envs\\movie-recommender-notebook:\n",
      "#\n",
      "# Name                    Version                   Build  Channel\n",
      "anyio                     4.7.0           py312haa95532_0  \n",
      "argon2-cffi               21.3.0             pyhd3eb1b0_0  \n",
      "argon2-cffi-bindings      21.2.0          py312h827c3e9_1  \n",
      "asttokens                 3.0.0           py312haa95532_0  \n",
      "async-lru                 2.0.4           py312haa95532_0  \n",
      "attrs                     24.3.0          py312haa95532_0  \n",
      "babel                     2.16.0          py312haa95532_0  \n",
      "beautifulsoup4            4.12.3          py312haa95532_0  \n",
      "bleach                    6.2.0           py312haa95532_0  \n",
      "brotli-python             1.0.9           py312h5da7b33_9  \n",
      "bzip2                     1.0.8                h2bbff1b_6  \n",
      "ca-certificates           2025.2.25            haa95532_0  \n",
      "certifi                   2025.1.31       py312haa95532_0  \n",
      "cffi                      1.17.1          py312h827c3e9_1  \n",
      "charset-normalizer        3.3.2              pyhd3eb1b0_0  \n",
      "colorama                  0.4.6           py312haa95532_0  \n",
      "comm                      0.2.1           py312haa95532_0  \n",
      "debugpy                   1.8.11          py312h5da7b33_0  \n",
      "decorator                 5.1.1              pyhd3eb1b0_0  \n",
      "defusedxml                0.7.1              pyhd3eb1b0_0  \n",
      "executing                 0.8.3              pyhd3eb1b0_0  \n",
      "expat                     2.7.1                h8ddb27b_0  \n",
      "h11                       0.14.0          py312haa95532_0  \n",
      "httpcore                  1.0.2           py312haa95532_0  \n",
      "httpx                     0.27.0          py312haa95532_0  \n",
      "idna                      3.7             py312haa95532_0  \n",
      "ipykernel                 6.29.5          py312haa95532_1  \n",
      "ipython                   9.1.0           py312haa95532_0  \n",
      "ipython_pygments_lexers   1.1.1           py312haa95532_0  \n",
      "jedi                      0.19.2          py312haa95532_0  \n",
      "jinja2                    3.1.6           py312haa95532_0  \n",
      "json5                     0.9.25          py312haa95532_0  \n",
      "jsonschema                4.23.0          py312haa95532_0  \n",
      "jsonschema-specifications 2023.7.1        py312haa95532_0  \n",
      "jupyter-lsp               2.2.0           py312haa95532_0  \n",
      "jupyter_client            8.6.3           py312haa95532_0  \n",
      "jupyter_core              5.7.2           py312haa95532_0  \n",
      "jupyter_events            0.12.0          py312haa95532_0  \n",
      "jupyter_server            2.15.0          py312haa95532_0  \n",
      "jupyter_server_terminals  0.5.3           py312haa95532_0  \n",
      "jupyterlab                4.3.4           py312haa95532_0  \n",
      "jupyterlab_pygments       0.3.0           py312haa95532_0  \n",
      "jupyterlab_server         2.27.3          py312haa95532_0  \n",
      "libffi                    3.4.4                hd77b12b_1  \n",
      "libsodium                 1.0.18               h62dcd97_0  \n",
      "markupsafe                3.0.2           py312h827c3e9_0  \n",
      "matplotlib-inline         0.1.6           py312haa95532_0  \n",
      "mistune                   3.1.2           py312haa95532_0  \n",
      "nbclient                  0.10.2          py312haa95532_0  \n",
      "nbconvert-core            7.16.6          py312haa95532_0  \n",
      "nbformat                  5.10.4          py312haa95532_0  \n",
      "nest-asyncio              1.6.0           py312haa95532_0  \n",
      "notebook                  7.3.2           py312haa95532_0  \n",
      "notebook-shim             0.2.4           py312haa95532_0  \n",
      "openssl                   3.0.16               h3f729d1_0  \n",
      "overrides                 7.4.0           py312haa95532_0  \n",
      "packaging                 24.2            py312haa95532_0  \n",
      "pandocfilters             1.5.0              pyhd3eb1b0_0  \n",
      "parso                     0.8.4           py312haa95532_0  \n",
      "pip                       25.0            py312haa95532_0  \n",
      "platformdirs              4.3.7           py312haa95532_0  \n",
      "prometheus_client         0.21.1          py312haa95532_0  \n",
      "prompt-toolkit            3.0.43          py312haa95532_0  \n",
      "prompt_toolkit            3.0.43               hd3eb1b0_0  \n",
      "psutil                    5.9.0           py312h827c3e9_1  \n",
      "pure_eval                 0.2.2              pyhd3eb1b0_0  \n",
      "pycparser                 2.21               pyhd3eb1b0_0  \n",
      "pygments                  2.19.1          py312haa95532_0  \n",
      "pysocks                   1.7.1           py312haa95532_0  \n",
      "python                    3.12.9               h14ffc60_0  \n",
      "python-dateutil           2.9.0post0      py312haa95532_2  \n",
      "python-fastjsonschema     2.20.0          py312haa95532_0  \n",
      "python-json-logger        3.2.1           py312haa95532_0  \n",
      "pywin32                   308             py312h5da7b33_0  \n",
      "pywinpty                  2.0.15          py312h72d21ff_0  \n",
      "pyyaml                    6.0.2           py312h827c3e9_0  \n",
      "pyzmq                     26.2.0          py312h5da7b33_0  \n",
      "referencing               0.30.2          py312haa95532_0  \n",
      "requests                  2.32.3          py312haa95532_1  \n",
      "rfc3339-validator         0.1.4           py312haa95532_0  \n",
      "rfc3986-validator         0.1.1           py312haa95532_0  \n",
      "rpds-py                   0.22.3          py312h636fa0f_0  \n",
      "send2trash                1.8.2           py312haa95532_1  \n",
      "setuptools                75.8.0          py312haa95532_0  \n",
      "six                       1.17.0          py312haa95532_0  \n",
      "sniffio                   1.3.0           py312haa95532_0  \n",
      "soupsieve                 2.5             py312haa95532_0  \n",
      "sqlite                    3.45.3               h2bbff1b_0  \n",
      "stack_data                0.2.0              pyhd3eb1b0_0  \n",
      "terminado                 0.17.1          py312haa95532_0  \n",
      "tinycss2                  1.4.0           py312haa95532_0  \n",
      "tk                        8.6.14               h0416ee5_0  \n",
      "tornado                   6.4.2           py312h827c3e9_0  \n",
      "traitlets                 5.14.3          py312haa95532_0  \n",
      "typing-extensions         4.12.2          py312haa95532_0  \n",
      "typing_extensions         4.12.2          py312haa95532_0  \n",
      "tzdata                    2025a                h04d1e81_0  \n",
      "urllib3                   2.3.0           py312haa95532_0  \n",
      "vc                        14.42                haa95532_5  \n",
      "vs2015_runtime            14.42.34433          hbfb602d_5  \n",
      "wcwidth                   0.2.5              pyhd3eb1b0_0  \n",
      "webencodings              0.5.1           py312haa95532_2  \n",
      "websocket-client          1.8.0           py312haa95532_0  \n",
      "wheel                     0.45.1          py312haa95532_0  \n",
      "win_inet_pton             1.1.0           py312haa95532_0  \n",
      "winpty                    0.4.3                         4  \n",
      "xz                        5.6.4                h4754444_1  \n",
      "yaml                      0.2.5                he774522_0  \n",
      "zeromq                    4.3.5                hd77b12b_0  \n",
      "zlib                      1.2.13               h8cc25b3_1  \n"
     ]
    }
   ],
   "execution_count": 6
  },
  {
   "metadata": {},
   "cell_type": "markdown",
   "source": [
    "### Interactive tables\n",
    "\n",
    "Effortlessly view, navigate, sort, and filter data. Create charts and access essential data insights, including descriptive statistics and missing values – all without writing a single line of code."
   ],
   "id": "2e44cfe2f556cba1"
  },
  {
   "metadata": {
    "collapsed": true
   },
   "cell_type": "code",
   "outputs": [],
   "source": [
    "# Defining data for the dataframe\n",
    "data = {\n",
    "    'Basket': ['A', 'B', 'C', 'D', 'E', 'F', 'G', 'H', 'I', 'J', 'K', 'L', 'M', 'N', 'O', 'P'],\n",
    "    'Apples': [10, 20, 30, 56, 40, 40, 67, 47, 40, 4, 49, 52, 5, 56, 35, 45],\n",
    "    'Bananas': [15, 6, 3, 45, 67, 44, 45, 11, 14, 18, 13, 12, 1, 34, 12, 12]\n",
    "}\n",
    "\n",
    "# Creating the dataframe\n",
    "df = pd.DataFrame(data)\n",
    "\n",
    "df"
   ],
   "id": "initial_id",
   "execution_count": null
  },
  {
   "metadata": {},
   "cell_type": "markdown",
   "source": [
    "### Visualization in IDE\n",
    "\n",
    "Create graphs and visualizations that match your chosen color scheme."
   ],
   "id": "62a8c026dc794d85"
  },
  {
   "metadata": {},
   "cell_type": "code",
   "outputs": [],
   "source": [
    "# Calculate the sums\n",
    "sum_apples = df['Apples'].sum()\n",
    "sum_bananas = df['Bananas'].sum()\n",
    "\n",
    "# Create a bar chart\n",
    "plt.bar(['Apples', 'Bananas'], [sum_apples, sum_bananas], color=['red', 'blue'])\n",
    "\n",
    "# Set a title\n",
    "plt.title('Comparison of total Apples and Bananas')\n",
    "\n",
    "# Show the plot\n",
    "plt.show()"
   ],
   "id": "e65e58a1b7e04493",
   "execution_count": null
  }
 ],
 "metadata": {
  "kernelspec": {
   "display_name": "Python 3",
   "language": "python",
   "name": "python3"
  },
  "language_info": {
   "codemirror_mode": {
    "name": "ipython",
    "version": 2
   },
   "file_extension": ".py",
   "mimetype": "text/x-python",
   "name": "python",
   "nbconvert_exporter": "python",
   "pygments_lexer": "ipython2",
   "version": "2.7.6"
  }
 },
 "nbformat": 4,
 "nbformat_minor": 5
}
